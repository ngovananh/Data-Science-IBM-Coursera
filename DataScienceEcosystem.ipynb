{
  "nbformat": 4,
  "nbformat_minor": 0,
  "metadata": {
    "colab": {
      "provenance": []
    },
    "kernelspec": {
      "name": "python3",
      "display_name": "Python 3"
    },
    "language_info": {
      "name": "python"
    }
  },
  "cells": [
    {
      "cell_type": "markdown",
      "source": [
        "# Data Science Tools and Ecosystem"
      ],
      "metadata": {
        "id": "f28SE7uOLS-y"
      }
    },
    {
      "cell_type": "markdown",
      "source": [
        "In this notebook, Data Science Tools and Ecosystem are summarized."
      ],
      "metadata": {
        "id": "WePjTKCqLXkm"
      }
    },
    {
      "cell_type": "markdown",
      "source": [
        "Some of the popular languages that Data Scientists use are:\n",
        "\n",
        "\n",
        "1. Python\n",
        "2. R\n",
        "3. SQL\n",
        "4. C++\n",
        "5. Java\n",
        "\n"
      ],
      "metadata": {
        "id": "cUhpS4gBLckI"
      }
    },
    {
      "cell_type": "markdown",
      "source": [
        "Some of the commonly used libraries used by Data Scientists include:\n",
        "\n",
        "\n",
        "1. TensorFlow\n",
        "2. NumPy\n",
        "3. Keras\n",
        "4. Pytorch\n",
        "5. Matplotlib\n",
        "6. Pandas\n",
        "7. SciPy\n",
        "8. SciKit-Learn\n",
        "\n"
      ],
      "metadata": {
        "id": "N910brsQL5CA"
      }
    },
    {
      "cell_type": "markdown",
      "source": [
        "|Data Science Tools|\n",
        "|---|\n",
        "|TenserFlow|\n",
        "|SAS|\n",
        "|Apache Hadoop|"
      ],
      "metadata": {
        "id": "vtbCLnb9MXIl"
      }
    },
    {
      "cell_type": "markdown",
      "source": [
        "### Below are a few examples of evaluating arithmetic expressions in Python"
      ],
      "metadata": {
        "id": "8H7TBFRYNaii"
      }
    },
    {
      "cell_type": "code",
      "execution_count": 2,
      "metadata": {
        "colab": {
          "base_uri": "https://localhost:8080/"
        },
        "id": "pJdJkAIHLI-i",
        "outputId": "27be1ce1-c75d-45a1-80d9-b30f6046f04b"
      },
      "outputs": [
        {
          "output_type": "execute_result",
          "data": {
            "text/plain": [
              "17"
            ]
          },
          "metadata": {},
          "execution_count": 2
        }
      ],
      "source": [
        "#This a simple arithmetic expression to mutiply then add integers\n",
        "(3*4)+5"
      ]
    },
    {
      "cell_type": "code",
      "source": [
        "#This will convert 200 minutes to hours by diving by 60\n",
        "200/60"
      ],
      "metadata": {
        "colab": {
          "base_uri": "https://localhost:8080/"
        },
        "id": "0YFCxOi2NmPc",
        "outputId": "a57ad69d-572e-4b87-83c3-62e4d32db827"
      },
      "execution_count": 3,
      "outputs": [
        {
          "output_type": "execute_result",
          "data": {
            "text/plain": [
              "3.3333333333333335"
            ]
          },
          "metadata": {},
          "execution_count": 3
        }
      ]
    },
    {
      "cell_type": "markdown",
      "source": [
        "**Objective:**\n",
        "\n",
        "\n",
        "* List popular languages for Data Science\n",
        "* List popular libraries for Data Science\n",
        "* List of Well know Data Tools\n",
        "* How to Provide comments in the cell\n",
        "\n"
      ],
      "metadata": {
        "id": "Qd2Fbk9LOD_X"
      }
    },
    {
      "cell_type": "markdown",
      "source": [
        "## Author\n",
        "Van Anh Ngo"
      ],
      "metadata": {
        "id": "Es9s03YmO0c7"
      }
    }
  ]
}